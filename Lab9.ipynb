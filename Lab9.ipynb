{
 "cells": [
  {
   "cell_type": "code",
   "execution_count": 2,
   "metadata": {},
   "outputs": [
    {
     "name": "stdout",
     "output_type": "stream",
     "text": [
      "pygame 2.5.2 (SDL 2.28.3, Python 3.11.6)\n",
      "Hello from the pygame community. https://www.pygame.org/contribute.html\n"
     ]
    }
   ],
   "source": [
    "from math import inf\n",
    "import numpy as np\n",
    "import matplotlib.pyplot as plt\n",
    "import pygame\n",
    "import random\n",
    "from PIL import Image"
   ]
  },
  {
   "cell_type": "markdown",
   "metadata": {},
   "source": [
    "### Task 1 Defina las variables crisp para encontrar la pelota\n",
    "\n",
    "Las variables crisp son las siguientes:\n",
    "* La distancia entre el robot y la pelota\n",
    "* El ángulo entre el robot y la pelota\n"
   ]
  },
  {
   "cell_type": "markdown",
   "metadata": {},
   "source": [
    "### Task 2 Defina las variables crisp para encontrar la pelota\n",
    "\n",
    "Las variables linguísticas (entrada) para el ángulo son las siguientes:\n",
    "* Izquierda\n",
    "* Derecha\n",
    "* Centro\n",
    "\n",
    "Las variables linguísticas (entrada) para la distancia son las siguientes:\n",
    "* Cerca\n",
    "* Medio\n",
    "* Lejos\n",
    "\n",
    "\n",
    "Las variables linguísticas (salida) para el movimiento del robot son las siguientes:\n",
    "* Izquierda\n",
    "* Derecha\n",
    "* Adelante\n",
    "* Atrás\n",
    "* Detener"
   ]
  },
  {
   "cell_type": "markdown",
   "metadata": {},
   "source": [
    "### Task 3 Defina las cláusulas de Horn para encontrar la pelota"
   ]
  },
  {
   "cell_type": "code",
   "execution_count": null,
   "metadata": {},
   "outputs": [],
   "source": []
  },
  {
   "cell_type": "markdown",
   "metadata": {},
   "source": [
    "### Task 4 Defina la defuzzificación para encontrar la pelota"
   ]
  },
  {
   "cell_type": "markdown",
   "metadata": {},
   "source": [
    "### Task 5 Defina las variables crisp para saber la fuerza con la que se debe patear la pelota"
   ]
  },
  {
   "cell_type": "markdown",
   "metadata": {},
   "source": [
    "### Task 6 Defina las variables lingüísticas para saber la fuerza con la que se debe patear la pelota"
   ]
  },
  {
   "cell_type": "markdown",
   "metadata": {},
   "source": [
    "### Task 7 Defina las cláusulas de Horn para saber la fuerza con la que se debe patear la pelota"
   ]
  },
  {
   "cell_type": "markdown",
   "metadata": {},
   "source": [
    "### Task 8 Defina la defuzzificación para saber la fuerza con la que se debe patear la pelota"
   ]
  },
  {
   "cell_type": "markdown",
   "metadata": {},
   "source": [
    "### Task 9 Grafique las funciones de pertenencia para encontrar la pelota"
   ]
  },
  {
   "cell_type": "markdown",
   "metadata": {},
   "source": [
    "### Task 10 Grafique las funciones de pertenencia para saber la fuerza con la que se debe patear la pelota"
   ]
  },
  {
   "cell_type": "markdown",
   "metadata": {},
   "source": [
    "### Task 11 Programe la interfaz gráfica donde se pueda seguir el movimiento del robot y la pelota"
   ]
  }
 ],
 "metadata": {
  "kernelspec": {
   "display_name": "Python 3",
   "language": "python",
   "name": "python3"
  },
  "language_info": {
   "codemirror_mode": {
    "name": "ipython",
    "version": 3
   },
   "file_extension": ".py",
   "mimetype": "text/x-python",
   "name": "python",
   "nbconvert_exporter": "python",
   "pygments_lexer": "ipython3",
   "version": "3.11.6"
  }
 },
 "nbformat": 4,
 "nbformat_minor": 2
}
